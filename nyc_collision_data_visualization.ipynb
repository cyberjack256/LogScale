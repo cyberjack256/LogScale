{
 "cells": [
  {
   "attachments": {},
   "cell_type": "markdown",
   "metadata": {},
   "source": [
    "# Data Analysis and Visualization"
   ]
  },
  
  {
   "cell_type": "code",
   "execution_count": null,
   "metadata": {},
   "outputs": [],
   "source": [
    "# ((Codeblock One))\n",
    "\n",
    "import pandas as pd\n",
    "import folium\n",
    "import matplotlib.pyplot as plt\n",
    "%matplotlib inline"
   ]
  },
  {
   "cell_type": "code",
   "execution_count": null,
   "metadata": {},
   "outputs": [],
   "source": [
    "# ((Codeblock Two))\n",
    "\n",
    "df = pd.read_csv(\"/Users/Administrator/Documents/clean_nyc_collisions.csv\")"
   ]
  },
  {
   "cell_type": "code",
   "execution_count": null,
   "metadata": {},
   "outputs": [],
   "source": [
    "# ((Codeblock Three))\n",
    "\n",
    "# Total number of injuires and injuries by category\n",
    "plt.figure(figsize=(20, 25)).subplots_adjust(hspace = 0.4)\n",
    "\n",
    "# Total number of PERSONS injured\n",
    "plt.subplot(4, 2 ,1)\n",
    "df.groupby('year').total_injured.sum().plot.bar()\n",
    "plt.title('Total number of PERSONS INJURED', fontsize=16)\n",
    "plt.xlabel('Year', fontsize=13)\n",
    "\n",
    "# Total number of MOTORISTS injured\n",
    "plt.subplot(4, 2, 2)\n",
    "df.groupby('year').moto_injured.sum().plot.bar()\n",
    "plt.title('Total number of MOTORISTS INJURED', fontsize=16)\n",
    "plt.xlabel('Year', fontsize=13)\n",
    "\n",
    "# Total number of CYCLISTS injured\n",
    "plt.subplot(4, 2 ,3)\n",
    "df.groupby('year').cyc_injured.sum().plot.bar()\n",
    "plt.title('Total number of CYCLISTS INJURED', fontsize=16)\n",
    "plt.xlabel('Year', fontsize=13)\n",
    "\n",
    "# Total number of PEDESTRIANS injured\n",
    "plt.subplot(4, 2, 4)\n",
    "df.groupby('year').ped_injured.sum().plot.bar()\n",
    "plt.title('Total number of PEDESTRIANS INJURED', fontsize=16)\n",
    "plt.xlabel('Year', fontsize=13)\n",
    "\n",
    "plt.show()"
   ]
  },
  {
   "cell_type": "code",
   "execution_count": null,
   "metadata": {},
   "outputs": [],
   "source": [
    "# ((Codeblock Four))\n",
    "\n",
    "# Total number of fatalities and fatalities by category\n",
    "plt.figure(figsize=(20, 25)).subplots_adjust(hspace = 0.4)\n",
    "\n",
    "# Total number of fatalities\n",
    "plt.subplot(4, 2 ,1)\n",
    "df.groupby('year').total_fatality.sum().plot.bar()\n",
    "plt.title('Total number of fatalities', fontsize=16)\n",
    "plt.xlabel('Year', fontsize=13)\n",
    "\n",
    "# TTotal number of MOTORIST fatalities\n",
    "plt.subplot(4, 2, 2)\n",
    "df.groupby('year').moto_fatality.sum().plot.bar()\n",
    "plt.title('Total number of MOTORIST fatalities', fontsize=16)\n",
    "plt.xlabel('Year', fontsize=13)\n",
    "\n",
    "# Total number of CYCLIST fatalities\n",
    "plt.subplot(4, 2 ,3)\n",
    "df.groupby('year').cyc_fatality.sum().plot.bar()\n",
    "plt.title('Total number of CYCLIST fatalities', fontsize=16)\n",
    "plt.xlabel('Year', fontsize=13)\n",
    "\n",
    "# Total number of PEDESTRIAN fatalities\n",
    "plt.subplot(4, 2, 4)\n",
    "df.groupby('year').ped_fatality.sum().plot.bar()\n",
    "plt.title('Total number of PEDESTRIAN fatalities', fontsize=16)\n",
    "plt.xlabel('Year', fontsize=13)\n",
    "\n",
    "plt.show()"
   ]
  },
  {
   "cell_type": "code",
   "execution_count": null,
   "metadata": {},
   "outputs": [],
   "source": [
    "# ((Codeblock Five))\n",
    "\n",
    "# Total number of fatalities per borough\n",
    "\n",
    "fig, ax = plt.subplots(1, figsize=(25, 15))\n",
    "\n",
    "plt.subplot(2, 2 ,1)\n",
    "df.groupby('borough').total_fatality.sum().sort_values(ascending=False).plot.bar()\n",
    "plt.title('Number of people injured per borough', fontsize=18)\n",
    "plt.xlabel('Borough,   *NYC = unknown location incidents', fontsize=14)\n",
    "\n",
    "plt.subplot(2, 2 ,2)\n",
    "df.groupby('borough').total_fatality.sum().sort_values(ascending=False).plot.bar()\n",
    "plt.title('Number of fatalities per borough', fontsize=18)\n",
    "plt.xlabel('Borough,   *NYC = unknown location incidents', fontsize=14)\n",
    "\n",
    "plt.show()"
   ]
  },
  {
   "cell_type": "code",
   "execution_count": null,
   "metadata": {},
   "outputs": [],
   "source": [
    "# ((Codeblock Six))\n",
    "\n",
    "# Total number of injured and fatalities per quarter\n",
    "fig, ax = plt.subplots(1, figsize=(25, 15))\n",
    "\n",
    "plt.subplot(2, 2 ,1)\n",
    "df.groupby('quarter').total_injured.sum().plot.bar()\n",
    "plt.title('Total number of PERSONS injured', fontsize=18)\n",
    "plt.xlabel('Quarter', fontsize=14)\n",
    "\n",
    "plt.subplot(2, 2 ,2)\n",
    "df.groupby('quarter').total_fatality.sum().plot.bar()\n",
    "plt.title('Total number of fatalities', fontsize=18)\n",
    "plt.xlabel('Quarter', fontsize=14)\n",
    "\n",
    "plt.show()"
   ]
  },
  {
   "attachments": {},
   "cell_type": "markdown",
   "metadata": {},
   "source": [
    "# Geographic Visualization"
   ]
  },
  {
   "cell_type": "code",
   "execution_count": null,
   "metadata": {},
   "outputs": [],
   "source": [
    "# ((Codeblock Seven))\n",
    "\n",
    "# Filter out rows with 'EMPTY' latitude or longitude, and sample 1000 rows\n",
    "df = df[(df['latitude'] != 'EMPTY') & (df['longitude'] != 'EMPTY')]\n",
    "df = df.sample(1000)"
   ]
  },
  {
   "cell_type": "code",
   "execution_count": null,
   "metadata": {},
   "outputs": [],
   "source": [
    "# ((Codeblock Eight))\n",
    "\n",
    "# Create map object centered on New York City\n",
    "map = folium.Map(location=[40.7128, -74.0060], zoom_start=10)"
   ]
  },
  {
   "cell_type": "code",
   "execution_count": null,
   "metadata": {},
   "outputs": [],
   "source": [
    "# ((Codeblock Nine))\n",
    "\n",
    "# Define the boroughs and their colors\n",
    "boroughs = {'manhattan': 'red',\n",
    "            'brooklyn': 'blue',\n",
    "            'queens': 'green',\n",
    "            'bronx': 'orange',\n",
    "            'staten island': 'purple',\n",
    "            'nyc': 'black'}"
   ]
  },
  {
   "cell_type": "code",
   "execution_count": null,
   "metadata": {},
   "outputs": [],
   "source": [
    "# ((Codeblock Ten))\n",
    "\n",
    "# Add a marker for each collision using the borough and latitude and longitude columns\n",
    "for index, row in df.iterrows():\n",
    "    borough = row['borough'].lower()\n",
    "    if borough not in boroughs:\n",
    "        continue\n",
    "    popup_text = f\"Date: {row['date']}<br>Time: {row['time']}<br>Location: {row['location']}\"\n",
    "    marker = folium.Marker(\n",
    "        [float(row['latitude']), float(row['longitude'])],\n",
    "        popup=popup_text,\n",
    "        icon=folium.Icon(color=boroughs[borough])\n",
    "    )\n",
    "    marker.add_to(map)"
   ]
  },
  {
   "cell_type": "code",
   "execution_count": null,
   "metadata": {},
   "outputs": [],
   "source": [
    "# ((Codeblock Eleven))\n",
    "\n",
    "# Add a layer with the borough boundaries\n",
    "folium.GeoJson('https://data.cityofnewyork.us/api/geospatial/tqmj-j8zm?method=export&format=GeoJSON', name='boroughs').add_to(map)"
   ]
  },
  {
   "cell_type": "code",
   "execution_count": null,
   "metadata": {},
   "outputs": [],
   "source": [
    "# ((Codeblock Twelve))\n",
    "\n",
    "# Add a layer control to toggle the borough boundaries on and off\n",
    "folium.LayerControl().add_to(map)"
   ]
  },
  {
   "cell_type": "code",
   "execution_count": null,
   "metadata": {},
   "outputs": [],
   "source": [
    "# ((Codeblock Thirteen))\n",
    "\n",
    "# Display the map in the Jupyter Notebook\n",
    "map"
   ]
  }
 ],
 "metadata": {
  "kernelspec": {
   "display_name": "log20",
   "language": "python",
   "name": "python3"
  },
  "language_info": {
   "codemirror_mode": {
    "name": "ipython",
    "version": 3
   },
   "file_extension": ".py",
   "mimetype": "text/x-python",
   "name": "python",
   "nbconvert_exporter": "python",
   "pygments_lexer": "ipython3",
   "version": "3.11.2"
  },
  "orig_nbformat": 4
 },
 "nbformat": 4,
 "nbformat_minor": 2
}
